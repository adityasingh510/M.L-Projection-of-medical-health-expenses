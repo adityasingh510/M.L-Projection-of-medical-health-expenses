{
 "cells": [
  {
   "cell_type": "code",
   "execution_count": 1,
   "id": "2f2c3020",
   "metadata": {},
   "outputs": [],
   "source": [
    "import seaborn as sns\n",
    "import pandas as pd\n",
    "import numpy as np\n",
    "import matplotlib.pyplot as plt"
   ]
  },
  {
   "cell_type": "code",
   "execution_count": 2,
   "id": "2be76aa8",
   "metadata": {},
   "outputs": [],
   "source": [
    "data = pd.read_csv('/Users/DELL/Desktop/data_is_good/med_insurance.csv')"
   ]
  },
  {
   "cell_type": "code",
   "execution_count": 3,
   "id": "8eb425dd",
   "metadata": {},
   "outputs": [
    {
     "data": {
      "text/html": [
       "<div>\n",
       "<style scoped>\n",
       "    .dataframe tbody tr th:only-of-type {\n",
       "        vertical-align: middle;\n",
       "    }\n",
       "\n",
       "    .dataframe tbody tr th {\n",
       "        vertical-align: top;\n",
       "    }\n",
       "\n",
       "    .dataframe thead th {\n",
       "        text-align: right;\n",
       "    }\n",
       "</style>\n",
       "<table border=\"1\" class=\"dataframe\">\n",
       "  <thead>\n",
       "    <tr style=\"text-align: right;\">\n",
       "      <th></th>\n",
       "      <th>age</th>\n",
       "      <th>sex</th>\n",
       "      <th>bmi</th>\n",
       "      <th>children</th>\n",
       "      <th>smoker</th>\n",
       "      <th>region</th>\n",
       "      <th>expenses</th>\n",
       "    </tr>\n",
       "  </thead>\n",
       "  <tbody>\n",
       "    <tr>\n",
       "      <th>0</th>\n",
       "      <td>19</td>\n",
       "      <td>female</td>\n",
       "      <td>27.9</td>\n",
       "      <td>0</td>\n",
       "      <td>yes</td>\n",
       "      <td>southwest</td>\n",
       "      <td>16884.92</td>\n",
       "    </tr>\n",
       "    <tr>\n",
       "      <th>1</th>\n",
       "      <td>18</td>\n",
       "      <td>male</td>\n",
       "      <td>33.8</td>\n",
       "      <td>1</td>\n",
       "      <td>no</td>\n",
       "      <td>southeast</td>\n",
       "      <td>1725.55</td>\n",
       "    </tr>\n",
       "    <tr>\n",
       "      <th>2</th>\n",
       "      <td>28</td>\n",
       "      <td>male</td>\n",
       "      <td>33.0</td>\n",
       "      <td>3</td>\n",
       "      <td>no</td>\n",
       "      <td>southeast</td>\n",
       "      <td>4449.46</td>\n",
       "    </tr>\n",
       "    <tr>\n",
       "      <th>3</th>\n",
       "      <td>33</td>\n",
       "      <td>male</td>\n",
       "      <td>22.7</td>\n",
       "      <td>0</td>\n",
       "      <td>no</td>\n",
       "      <td>northwest</td>\n",
       "      <td>21984.47</td>\n",
       "    </tr>\n",
       "    <tr>\n",
       "      <th>4</th>\n",
       "      <td>32</td>\n",
       "      <td>male</td>\n",
       "      <td>28.9</td>\n",
       "      <td>0</td>\n",
       "      <td>no</td>\n",
       "      <td>northwest</td>\n",
       "      <td>3866.86</td>\n",
       "    </tr>\n",
       "  </tbody>\n",
       "</table>\n",
       "</div>"
      ],
      "text/plain": [
       "   age     sex   bmi  children smoker     region  expenses\n",
       "0   19  female  27.9         0    yes  southwest  16884.92\n",
       "1   18    male  33.8         1     no  southeast   1725.55\n",
       "2   28    male  33.0         3     no  southeast   4449.46\n",
       "3   33    male  22.7         0     no  northwest  21984.47\n",
       "4   32    male  28.9         0     no  northwest   3866.86"
      ]
     },
     "execution_count": 3,
     "metadata": {},
     "output_type": "execute_result"
    }
   ],
   "source": [
    "data.head()"
   ]
  },
  {
   "cell_type": "code",
   "execution_count": 4,
   "id": "8c251903",
   "metadata": {},
   "outputs": [
    {
     "data": {
      "text/plain": [
       "(1338, 7)"
      ]
     },
     "execution_count": 4,
     "metadata": {},
     "output_type": "execute_result"
    }
   ],
   "source": [
    "data.shape"
   ]
  },
  {
   "cell_type": "code",
   "execution_count": 5,
   "id": "d5946086",
   "metadata": {},
   "outputs": [
    {
     "data": {
      "text/html": [
       "<div>\n",
       "<style scoped>\n",
       "    .dataframe tbody tr th:only-of-type {\n",
       "        vertical-align: middle;\n",
       "    }\n",
       "\n",
       "    .dataframe tbody tr th {\n",
       "        vertical-align: top;\n",
       "    }\n",
       "\n",
       "    .dataframe thead th {\n",
       "        text-align: right;\n",
       "    }\n",
       "</style>\n",
       "<table border=\"1\" class=\"dataframe\">\n",
       "  <thead>\n",
       "    <tr style=\"text-align: right;\">\n",
       "      <th></th>\n",
       "      <th>age</th>\n",
       "      <th>sex</th>\n",
       "      <th>bmi</th>\n",
       "      <th>children</th>\n",
       "      <th>smoker</th>\n",
       "      <th>region</th>\n",
       "      <th>expenses</th>\n",
       "    </tr>\n",
       "  </thead>\n",
       "  <tbody>\n",
       "    <tr>\n",
       "      <th>0</th>\n",
       "      <td>19</td>\n",
       "      <td>female</td>\n",
       "      <td>27.9</td>\n",
       "      <td>0</td>\n",
       "      <td>yes</td>\n",
       "      <td>southwest</td>\n",
       "      <td>16884.92</td>\n",
       "    </tr>\n",
       "    <tr>\n",
       "      <th>1</th>\n",
       "      <td>18</td>\n",
       "      <td>male</td>\n",
       "      <td>33.8</td>\n",
       "      <td>1</td>\n",
       "      <td>no</td>\n",
       "      <td>southeast</td>\n",
       "      <td>1725.55</td>\n",
       "    </tr>\n",
       "    <tr>\n",
       "      <th>2</th>\n",
       "      <td>28</td>\n",
       "      <td>male</td>\n",
       "      <td>33.0</td>\n",
       "      <td>3</td>\n",
       "      <td>no</td>\n",
       "      <td>southeast</td>\n",
       "      <td>4449.46</td>\n",
       "    </tr>\n",
       "    <tr>\n",
       "      <th>3</th>\n",
       "      <td>33</td>\n",
       "      <td>male</td>\n",
       "      <td>22.7</td>\n",
       "      <td>0</td>\n",
       "      <td>no</td>\n",
       "      <td>northwest</td>\n",
       "      <td>21984.47</td>\n",
       "    </tr>\n",
       "    <tr>\n",
       "      <th>4</th>\n",
       "      <td>32</td>\n",
       "      <td>male</td>\n",
       "      <td>28.9</td>\n",
       "      <td>0</td>\n",
       "      <td>no</td>\n",
       "      <td>northwest</td>\n",
       "      <td>3866.86</td>\n",
       "    </tr>\n",
       "    <tr>\n",
       "      <th>...</th>\n",
       "      <td>...</td>\n",
       "      <td>...</td>\n",
       "      <td>...</td>\n",
       "      <td>...</td>\n",
       "      <td>...</td>\n",
       "      <td>...</td>\n",
       "      <td>...</td>\n",
       "    </tr>\n",
       "    <tr>\n",
       "      <th>1333</th>\n",
       "      <td>50</td>\n",
       "      <td>male</td>\n",
       "      <td>31.0</td>\n",
       "      <td>3</td>\n",
       "      <td>no</td>\n",
       "      <td>northwest</td>\n",
       "      <td>10600.55</td>\n",
       "    </tr>\n",
       "    <tr>\n",
       "      <th>1334</th>\n",
       "      <td>18</td>\n",
       "      <td>female</td>\n",
       "      <td>31.9</td>\n",
       "      <td>0</td>\n",
       "      <td>no</td>\n",
       "      <td>northeast</td>\n",
       "      <td>2205.98</td>\n",
       "    </tr>\n",
       "    <tr>\n",
       "      <th>1335</th>\n",
       "      <td>18</td>\n",
       "      <td>female</td>\n",
       "      <td>36.9</td>\n",
       "      <td>0</td>\n",
       "      <td>no</td>\n",
       "      <td>southeast</td>\n",
       "      <td>1629.83</td>\n",
       "    </tr>\n",
       "    <tr>\n",
       "      <th>1336</th>\n",
       "      <td>21</td>\n",
       "      <td>female</td>\n",
       "      <td>25.8</td>\n",
       "      <td>0</td>\n",
       "      <td>no</td>\n",
       "      <td>southwest</td>\n",
       "      <td>2007.95</td>\n",
       "    </tr>\n",
       "    <tr>\n",
       "      <th>1337</th>\n",
       "      <td>61</td>\n",
       "      <td>female</td>\n",
       "      <td>29.1</td>\n",
       "      <td>0</td>\n",
       "      <td>yes</td>\n",
       "      <td>northwest</td>\n",
       "      <td>29141.36</td>\n",
       "    </tr>\n",
       "  </tbody>\n",
       "</table>\n",
       "<p>1337 rows × 7 columns</p>\n",
       "</div>"
      ],
      "text/plain": [
       "      age     sex   bmi  children smoker     region  expenses\n",
       "0      19  female  27.9         0    yes  southwest  16884.92\n",
       "1      18    male  33.8         1     no  southeast   1725.55\n",
       "2      28    male  33.0         3     no  southeast   4449.46\n",
       "3      33    male  22.7         0     no  northwest  21984.47\n",
       "4      32    male  28.9         0     no  northwest   3866.86\n",
       "...   ...     ...   ...       ...    ...        ...       ...\n",
       "1333   50    male  31.0         3     no  northwest  10600.55\n",
       "1334   18  female  31.9         0     no  northeast   2205.98\n",
       "1335   18  female  36.9         0     no  southeast   1629.83\n",
       "1336   21  female  25.8         0     no  southwest   2007.95\n",
       "1337   61  female  29.1         0    yes  northwest  29141.36\n",
       "\n",
       "[1337 rows x 7 columns]"
      ]
     },
     "execution_count": 5,
     "metadata": {},
     "output_type": "execute_result"
    }
   ],
   "source": [
    "data.drop_duplicates()"
   ]
  },
  {
   "cell_type": "markdown",
   "id": "2e716ae3",
   "metadata": {},
   "source": [
    "# Lets create EDA"
   ]
  },
  {
   "cell_type": "code",
   "execution_count": 6,
   "id": "37266ba4",
   "metadata": {},
   "outputs": [],
   "source": [
    "count=data.columns.tolist()"
   ]
  },
  {
   "cell_type": "code",
   "execution_count": 7,
   "id": "4f908597",
   "metadata": {},
   "outputs": [
    {
     "name": "stdout",
     "output_type": "stream",
     "text": [
      "count    1338.000000\n",
      "mean       39.207025\n",
      "std        14.049960\n",
      "min        18.000000\n",
      "25%        27.000000\n",
      "50%        39.000000\n",
      "75%        51.000000\n",
      "max        64.000000\n",
      "Name: age, dtype: float64\n"
     ]
    },
    {
     "data": {
      "image/png": "[encoded data removed]",
      "text/plain": [
       "<Figure size 432x288 with 1 Axes>"
      ]
     },
     "metadata": {
      "needs_background": "light"
     },
     "output_type": "display_data"
    },
    {
     "name": "stdout",
     "output_type": "stream",
     "text": [
      "count     1338\n",
      "unique       2\n",
      "top       male\n",
      "freq       676\n",
      "Name: sex, dtype: object\n"
     ]
    },
    {
     "data": {
      "image/png": "[encoded data removed]",
      "text/plain": [
       "<Figure size 432x288 with 1 Axes>"
      ]
     },
     "metadata": {
      "needs_background": "light"
     },
     "output_type": "display_data"
    },
    {
     "name": "stdout",
     "output_type": "stream",
     "text": [
      "count    1338.000000\n",
      "mean       30.665471\n",
      "std         6.098382\n",
      "min        16.000000\n",
      "25%        26.300000\n",
      "50%        30.400000\n",
      "75%        34.700000\n",
      "max        53.100000\n",
      "Name: bmi, dtype: float64\n"
     ]
    },
    {
     "data": {
      "image/png": "[encoded data removed]",
      "text/plain": [
       "<Figure size 432x288 with 1 Axes>"
      ]
     },
     "metadata": {
      "needs_background": "light"
     },
     "output_type": "display_data"
    },
    {
     "name": "stdout",
     "output_type": "stream",
     "text": [
      "count    1338.000000\n",
      "mean        1.094918\n",
      "std         1.205493\n",
      "min         0.000000\n",
      "25%         0.000000\n",
      "50%         1.000000\n",
      "75%         2.000000\n",
      "max         5.000000\n",
      "Name: children, dtype: float64\n"
     ]
    },
    {
     "data": {
      "image/png": "[encoded data removed]",
      "text/plain": [
       "<Figure size 432x288 with 1 Axes>"
      ]
     },
     "metadata": {
      "needs_background": "light"
     },
     "output_type": "display_data"
    },
    {
     "name": "stdout",
     "output_type": "stream",
     "text": [
      "count     1338\n",
      "unique       2\n",
      "top         no\n",
      "freq      1064\n",
      "Name: smoker, dtype: object\n"
     ]
    },
    {
     "data": {
      "image/png": "[encoded data removed]",
      "text/plain": [
       "<Figure size 432x288 with 1 Axes>"
      ]
     },
     "metadata": {
      "needs_background": "light"
     },
     "output_type": "display_data"
    },
    {
     "name": "stdout",
     "output_type": "stream",
     "text": [
      "count          1338\n",
      "unique            4\n",
      "top       southeast\n",
      "freq            364\n",
      "Name: region, dtype: object\n"
     ]
    },
    {
     "data": {
      "image/png": "[encoded data removed]",
      "text/plain": [
       "<Figure size 432x288 with 1 Axes>"
      ]
     },
     "metadata": {
      "needs_background": "light"
     },
     "output_type": "display_data"
    },
    {
     "name": "stdout",
     "output_type": "stream",
     "text": [
      "count     1338.000000\n",
      "mean     13270.422414\n",
      "std      12110.011240\n",
      "min       1121.870000\n",
      "25%       4740.287500\n",
      "50%       9382.030000\n",
      "75%      16639.915000\n",
      "max      63770.430000\n",
      "Name: expenses, dtype: float64\n"
     ]
    },
    {
     "data": {
      "image/png": "[encoded data removed]",
      "text/plain": [
       "<Figure size 432x288 with 1 Axes>"
      ]
     },
     "metadata": {
      "needs_background": "light"
     },
     "output_type": "display_data"
    }
   ],
   "source": [
    "for i in count:\n",
    "    print(data[i].describe())\n",
    "    sns.histplot(x=i,data=data,color='y')\n",
    "    plt.show()"
   ]
  },
  {
   "cell_type": "code",
   "execution_count": 114,
   "id": "f1ab6a0b",
   "metadata": {},
   "outputs": [
    {
     "data": {
      "text/html": [
       "<div>\n",
       "<style scoped>\n",
       "    .dataframe tbody tr th:only-of-type {\n",
       "        vertical-align: middle;\n",
       "    }\n",
       "\n",
       "    .dataframe tbody tr th {\n",
       "        vertical-align: top;\n",
       "    }\n",
       "\n",
       "    .dataframe thead th {\n",
       "        text-align: right;\n",
       "    }\n",
       "</style>\n",
       "<table border=\"1\" class=\"dataframe\">\n",
       "  <thead>\n",
       "    <tr style=\"text-align: right;\">\n",
       "      <th></th>\n",
       "      <th>age</th>\n",
       "      <th>sex</th>\n",
       "      <th>bmi</th>\n",
       "      <th>children</th>\n",
       "      <th>smoker</th>\n",
       "      <th>region</th>\n",
       "      <th>expenses</th>\n",
       "    </tr>\n",
       "  </thead>\n",
       "  <tbody>\n",
       "    <tr>\n",
       "      <th>age</th>\n",
       "      <td>1.000000</td>\n",
       "      <td>-0.020856</td>\n",
       "      <td>0.109341</td>\n",
       "      <td>0.042469</td>\n",
       "      <td>-0.025019</td>\n",
       "      <td>0.006308</td>\n",
       "      <td>0.299008</td>\n",
       "    </tr>\n",
       "    <tr>\n",
       "      <th>sex</th>\n",
       "      <td>-0.020856</td>\n",
       "      <td>1.000000</td>\n",
       "      <td>0.046380</td>\n",
       "      <td>0.017163</td>\n",
       "      <td>0.076185</td>\n",
       "      <td>-0.012816</td>\n",
       "      <td>0.057292</td>\n",
       "    </tr>\n",
       "    <tr>\n",
       "      <th>bmi</th>\n",
       "      <td>0.109341</td>\n",
       "      <td>0.046380</td>\n",
       "      <td>1.000000</td>\n",
       "      <td>0.012645</td>\n",
       "      <td>0.003968</td>\n",
       "      <td>-0.262750</td>\n",
       "      <td>0.198576</td>\n",
       "    </tr>\n",
       "    <tr>\n",
       "      <th>children</th>\n",
       "      <td>0.042469</td>\n",
       "      <td>0.017163</td>\n",
       "      <td>0.012645</td>\n",
       "      <td>1.000000</td>\n",
       "      <td>0.007673</td>\n",
       "      <td>0.001205</td>\n",
       "      <td>0.067998</td>\n",
       "    </tr>\n",
       "    <tr>\n",
       "      <th>smoker</th>\n",
       "      <td>-0.025019</td>\n",
       "      <td>0.076185</td>\n",
       "      <td>0.003968</td>\n",
       "      <td>0.007673</td>\n",
       "      <td>1.000000</td>\n",
       "      <td>-0.038873</td>\n",
       "      <td>0.787251</td>\n",
       "    </tr>\n",
       "    <tr>\n",
       "      <th>region</th>\n",
       "      <td>0.006308</td>\n",
       "      <td>-0.012816</td>\n",
       "      <td>-0.262750</td>\n",
       "      <td>0.001205</td>\n",
       "      <td>-0.038873</td>\n",
       "      <td>1.000000</td>\n",
       "      <td>-0.039473</td>\n",
       "    </tr>\n",
       "    <tr>\n",
       "      <th>expenses</th>\n",
       "      <td>0.299008</td>\n",
       "      <td>0.057292</td>\n",
       "      <td>0.198576</td>\n",
       "      <td>0.067998</td>\n",
       "      <td>0.787251</td>\n",
       "      <td>-0.039473</td>\n",
       "      <td>1.000000</td>\n",
       "    </tr>\n",
       "  </tbody>\n",
       "</table>\n",
       "</div>"
      ],
      "text/plain": [
       "               age       sex       bmi  children    smoker    region  expenses\n",
       "age       1.000000 -0.020856  0.109341  0.042469 -0.025019  0.006308  0.299008\n",
       "sex      -0.020856  1.000000  0.046380  0.017163  0.076185 -0.012816  0.057292\n",
       "bmi       0.109341  0.046380  1.000000  0.012645  0.003968 -0.262750  0.198576\n",
       "children  0.042469  0.017163  0.012645  1.000000  0.007673  0.001205  0.067998\n",
       "smoker   -0.025019  0.076185  0.003968  0.007673  1.000000 -0.038873  0.787251\n",
       "region    0.006308 -0.012816 -0.262750  0.001205 -0.038873  1.000000 -0.039473\n",
       "expenses  0.299008  0.057292  0.198576  0.067998  0.787251 -0.039473  1.000000"
      ]
     },
     "execution_count": 114,
     "metadata": {},
     "output_type": "execute_result"
    }
   ],
   "source": [
    "corr_matrix=data.corr()\n",
    "corr_matrix"
   ]
  },
  {
   "cell_type": "code",
   "execution_count": 115,
   "id": "11079ae1",
   "metadata": {},
   "outputs": [],
   "source": [
    "a=['age','bmi']\n",
    "b=['sex','children','smoker','region']"
   ]
  },
  {
   "cell_type": "code",
   "execution_count": 116,
   "id": "917674d1",
   "metadata": {},
   "outputs": [
    {
     "data": {
      "image/png": "[encoded data removed]",
      "text/plain": [
       "<Figure size 432x288 with 1 Axes>"
      ]
     },
     "metadata": {
      "needs_background": "light"
     },
     "output_type": "display_data"
    },
    {
     "data": {
      "image/png": "[encoded data removed]",
      "text/plain": [
       "<Figure size 432x288 with 1 Axes>"
      ]
     },
     "metadata": {
      "needs_background": "light"
     },
     "output_type": "display_data"
    },
    {
     "data": {
      "image/png": "[encoded data removed]",
      "text/plain": [
       "<Figure size 432x288 with 1 Axes>"
      ]
     },
     "metadata": {
      "needs_background": "light"
     },
     "output_type": "display_data"
    },
    {
     "data": {
      "image/png": "[encoded data removed]",
      "text/plain": [
       "<Figure size 432x288 with 1 Axes>"
      ]
     },
     "metadata": {
      "needs_background": "light"
     },
     "output_type": "display_data"
    }
   ],
   "source": [
    "for i in b:\n",
    "    sns.barplot(x=i,y='expenses',data=data)\n",
    "    plt.show()"
   ]
  },
  {
   "cell_type": "code",
   "execution_count": 117,
   "id": "3a93b95d",
   "metadata": {},
   "outputs": [
    {
     "ename": "SyntaxError",
     "evalue": "positional argument follows keyword argument (Temp/ipykernel_13224/250322679.py, line 2)",
     "output_type": "error",
     "traceback": [
      "\u001b[1;36m  File \u001b[1;32m\"C:\\Users\\DELL\\AppData\\Local\\Temp/ipykernel_13224/250322679.py\"\u001b[1;36m, line \u001b[1;32m2\u001b[0m\n\u001b[1;33m    sns.histplot(x=data[i],data['expenses']==0,color='r')\u001b[0m\n\u001b[1;37m                                                        ^\u001b[0m\n\u001b[1;31mSyntaxError\u001b[0m\u001b[1;31m:\u001b[0m positional argument follows keyword argument\n"
     ]
    }
   ],
   "source": [
    "for i in a:\n",
    "    sns.histplot(x=data[i],data['expenses']==0,color='r')\n",
    "    sns.histplot(x=data[i],data['expenses']==1,color='y')\n",
    "    plt.show()"
   ]
  },
  {
   "cell_type": "markdown",
   "id": "88defc96",
   "metadata": {},
   "source": [
    "*#since after observing the given data we can clearly see that the expenses column in the dependent data and rest are the dependent data.\n",
    "#That is why we are providing x with dependent data and y with independent data below."
   ]
  },
  {
   "cell_type": "code",
   "execution_count": 8,
   "id": "efce336a",
   "metadata": {},
   "outputs": [],
   "source": [
    "data[\"smoker\"].replace({\"yes\":1,\"no\":0},inplace=True)"
   ]
  },
  {
   "cell_type": "code",
   "execution_count": 9,
   "id": "37a38075",
   "metadata": {},
   "outputs": [],
   "source": [
    "data[\"region\"].replace({\"southeast\":0,\"southwest\":1,\"northwest\":2,\"northeast\":3},inplace=True)"
   ]
  },
  {
   "cell_type": "code",
   "execution_count": 10,
   "id": "dee992d7",
   "metadata": {},
   "outputs": [],
   "source": [
    "data[\"sex\"].replace({\"male\":1,\"female\":0},inplace=True)"
   ]
  },
  {
   "cell_type": "code",
   "execution_count": 11,
   "id": "d06dc981",
   "metadata": {},
   "outputs": [
    {
     "data": {
      "text/html": [
       "<div>\n",
       "<style scoped>\n",
       "    .dataframe tbody tr th:only-of-type {\n",
       "        vertical-align: middle;\n",
       "    }\n",
       "\n",
       "    .dataframe tbody tr th {\n",
       "        vertical-align: top;\n",
       "    }\n",
       "\n",
       "    .dataframe thead th {\n",
       "        text-align: right;\n",
       "    }\n",
       "</style>\n",
       "<table border=\"1\" class=\"dataframe\">\n",
       "  <thead>\n",
       "    <tr style=\"text-align: right;\">\n",
       "      <th></th>\n",
       "      <th>age</th>\n",
       "      <th>sex</th>\n",
       "      <th>bmi</th>\n",
       "      <th>children</th>\n",
       "      <th>smoker</th>\n",
       "      <th>region</th>\n",
       "      <th>expenses</th>\n",
       "    </tr>\n",
       "  </thead>\n",
       "  <tbody>\n",
       "    <tr>\n",
       "      <th>0</th>\n",
       "      <td>19</td>\n",
       "      <td>0</td>\n",
       "      <td>27.9</td>\n",
       "      <td>0</td>\n",
       "      <td>1</td>\n",
       "      <td>1</td>\n",
       "      <td>16884.92</td>\n",
       "    </tr>\n",
       "    <tr>\n",
       "      <th>1</th>\n",
       "      <td>18</td>\n",
       "      <td>1</td>\n",
       "      <td>33.8</td>\n",
       "      <td>1</td>\n",
       "      <td>0</td>\n",
       "      <td>0</td>\n",
       "      <td>1725.55</td>\n",
       "    </tr>\n",
       "    <tr>\n",
       "      <th>2</th>\n",
       "      <td>28</td>\n",
       "      <td>1</td>\n",
       "      <td>33.0</td>\n",
       "      <td>3</td>\n",
       "      <td>0</td>\n",
       "      <td>0</td>\n",
       "      <td>4449.46</td>\n",
       "    </tr>\n",
       "    <tr>\n",
       "      <th>3</th>\n",
       "      <td>33</td>\n",
       "      <td>1</td>\n",
       "      <td>22.7</td>\n",
       "      <td>0</td>\n",
       "      <td>0</td>\n",
       "      <td>2</td>\n",
       "      <td>21984.47</td>\n",
       "    </tr>\n",
       "    <tr>\n",
       "      <th>4</th>\n",
       "      <td>32</td>\n",
       "      <td>1</td>\n",
       "      <td>28.9</td>\n",
       "      <td>0</td>\n",
       "      <td>0</td>\n",
       "      <td>2</td>\n",
       "      <td>3866.86</td>\n",
       "    </tr>\n",
       "    <tr>\n",
       "      <th>5</th>\n",
       "      <td>31</td>\n",
       "      <td>0</td>\n",
       "      <td>25.7</td>\n",
       "      <td>0</td>\n",
       "      <td>0</td>\n",
       "      <td>0</td>\n",
       "      <td>3756.62</td>\n",
       "    </tr>\n",
       "    <tr>\n",
       "      <th>6</th>\n",
       "      <td>46</td>\n",
       "      <td>0</td>\n",
       "      <td>33.4</td>\n",
       "      <td>1</td>\n",
       "      <td>0</td>\n",
       "      <td>0</td>\n",
       "      <td>8240.59</td>\n",
       "    </tr>\n",
       "    <tr>\n",
       "      <th>7</th>\n",
       "      <td>37</td>\n",
       "      <td>0</td>\n",
       "      <td>27.7</td>\n",
       "      <td>3</td>\n",
       "      <td>0</td>\n",
       "      <td>2</td>\n",
       "      <td>7281.51</td>\n",
       "    </tr>\n",
       "    <tr>\n",
       "      <th>8</th>\n",
       "      <td>37</td>\n",
       "      <td>1</td>\n",
       "      <td>29.8</td>\n",
       "      <td>2</td>\n",
       "      <td>0</td>\n",
       "      <td>3</td>\n",
       "      <td>6406.41</td>\n",
       "    </tr>\n",
       "    <tr>\n",
       "      <th>9</th>\n",
       "      <td>60</td>\n",
       "      <td>0</td>\n",
       "      <td>25.8</td>\n",
       "      <td>0</td>\n",
       "      <td>0</td>\n",
       "      <td>2</td>\n",
       "      <td>28923.14</td>\n",
       "    </tr>\n",
       "    <tr>\n",
       "      <th>10</th>\n",
       "      <td>25</td>\n",
       "      <td>1</td>\n",
       "      <td>26.2</td>\n",
       "      <td>0</td>\n",
       "      <td>0</td>\n",
       "      <td>3</td>\n",
       "      <td>2721.32</td>\n",
       "    </tr>\n",
       "    <tr>\n",
       "      <th>11</th>\n",
       "      <td>62</td>\n",
       "      <td>0</td>\n",
       "      <td>26.3</td>\n",
       "      <td>0</td>\n",
       "      <td>1</td>\n",
       "      <td>0</td>\n",
       "      <td>27808.73</td>\n",
       "    </tr>\n",
       "    <tr>\n",
       "      <th>12</th>\n",
       "      <td>23</td>\n",
       "      <td>1</td>\n",
       "      <td>34.4</td>\n",
       "      <td>0</td>\n",
       "      <td>0</td>\n",
       "      <td>1</td>\n",
       "      <td>1826.84</td>\n",
       "    </tr>\n",
       "    <tr>\n",
       "      <th>13</th>\n",
       "      <td>56</td>\n",
       "      <td>0</td>\n",
       "      <td>39.8</td>\n",
       "      <td>0</td>\n",
       "      <td>0</td>\n",
       "      <td>0</td>\n",
       "      <td>11090.72</td>\n",
       "    </tr>\n",
       "    <tr>\n",
       "      <th>14</th>\n",
       "      <td>27</td>\n",
       "      <td>1</td>\n",
       "      <td>42.1</td>\n",
       "      <td>0</td>\n",
       "      <td>1</td>\n",
       "      <td>0</td>\n",
       "      <td>39611.76</td>\n",
       "    </tr>\n",
       "    <tr>\n",
       "      <th>15</th>\n",
       "      <td>19</td>\n",
       "      <td>1</td>\n",
       "      <td>24.6</td>\n",
       "      <td>1</td>\n",
       "      <td>0</td>\n",
       "      <td>1</td>\n",
       "      <td>1837.24</td>\n",
       "    </tr>\n",
       "    <tr>\n",
       "      <th>16</th>\n",
       "      <td>52</td>\n",
       "      <td>0</td>\n",
       "      <td>30.8</td>\n",
       "      <td>1</td>\n",
       "      <td>0</td>\n",
       "      <td>3</td>\n",
       "      <td>10797.34</td>\n",
       "    </tr>\n",
       "    <tr>\n",
       "      <th>17</th>\n",
       "      <td>23</td>\n",
       "      <td>1</td>\n",
       "      <td>23.8</td>\n",
       "      <td>0</td>\n",
       "      <td>0</td>\n",
       "      <td>3</td>\n",
       "      <td>2395.17</td>\n",
       "    </tr>\n",
       "    <tr>\n",
       "      <th>18</th>\n",
       "      <td>56</td>\n",
       "      <td>1</td>\n",
       "      <td>40.3</td>\n",
       "      <td>0</td>\n",
       "      <td>0</td>\n",
       "      <td>1</td>\n",
       "      <td>10602.39</td>\n",
       "    </tr>\n",
       "    <tr>\n",
       "      <th>19</th>\n",
       "      <td>30</td>\n",
       "      <td>1</td>\n",
       "      <td>35.3</td>\n",
       "      <td>0</td>\n",
       "      <td>1</td>\n",
       "      <td>1</td>\n",
       "      <td>36837.47</td>\n",
       "    </tr>\n",
       "  </tbody>\n",
       "</table>\n",
       "</div>"
      ],
      "text/plain": [
       "    age  sex   bmi  children  smoker  region  expenses\n",
       "0    19    0  27.9         0       1       1  16884.92\n",
       "1    18    1  33.8         1       0       0   1725.55\n",
       "2    28    1  33.0         3       0       0   4449.46\n",
       "3    33    1  22.7         0       0       2  21984.47\n",
       "4    32    1  28.9         0       0       2   3866.86\n",
       "5    31    0  25.7         0       0       0   3756.62\n",
       "6    46    0  33.4         1       0       0   8240.59\n",
       "7    37    0  27.7         3       0       2   7281.51\n",
       "8    37    1  29.8         2       0       3   6406.41\n",
       "9    60    0  25.8         0       0       2  28923.14\n",
       "10   25    1  26.2         0       0       3   2721.32\n",
       "11   62    0  26.3         0       1       0  27808.73\n",
       "12   23    1  34.4         0       0       1   1826.84\n",
       "13   56    0  39.8         0       0       0  11090.72\n",
       "14   27    1  42.1         0       1       0  39611.76\n",
       "15   19    1  24.6         1       0       1   1837.24\n",
       "16   52    0  30.8         1       0       3  10797.34\n",
       "17   23    1  23.8         0       0       3   2395.17\n",
       "18   56    1  40.3         0       0       1  10602.39\n",
       "19   30    1  35.3         0       1       1  36837.47"
      ]
     },
     "execution_count": 11,
     "metadata": {},
     "output_type": "execute_result"
    }
   ],
   "source": [
    "data.head(20)"
   ]
  },
  {
   "cell_type": "code",
   "execution_count": 12,
   "id": "d41048a5",
   "metadata": {},
   "outputs": [],
   "source": [
    "x=data.drop('expenses',axis=1)\n",
    "y=data['expenses']"
   ]
  },
  {
   "cell_type": "code",
   "execution_count": 13,
   "id": "51f3b361",
   "metadata": {},
   "outputs": [],
   "source": [
    "from sklearn.model_selection import train_test_split"
   ]
  },
  {
   "cell_type": "code",
   "execution_count": 14,
   "id": "c80f7a18",
   "metadata": {},
   "outputs": [],
   "source": [
    "xtrain,xtest,ytrain,ytest=train_test_split(x,y,train_size=0.80)"
   ]
  },
  {
   "cell_type": "code",
   "execution_count": 15,
   "id": "41f34f02",
   "metadata": {},
   "outputs": [
    {
     "name": "stdout",
     "output_type": "stream",
     "text": [
      "(1070, 6)\n"
     ]
    }
   ],
   "source": [
    "print(xtrain.shape)"
   ]
  },
  {
   "cell_type": "code",
   "execution_count": 16,
   "id": "d02a2096",
   "metadata": {},
   "outputs": [
    {
     "name": "stdout",
     "output_type": "stream",
     "text": [
      "(268, 6)\n"
     ]
    }
   ],
   "source": [
    "print(xtest.shape)"
   ]
  },
  {
   "cell_type": "code",
   "execution_count": 17,
   "id": "5f35de2e",
   "metadata": {},
   "outputs": [
    {
     "name": "stdout",
     "output_type": "stream",
     "text": [
      "(268,)\n"
     ]
    }
   ],
   "source": [
    "print(ytest.shape)"
   ]
  },
  {
   "cell_type": "code",
   "execution_count": 18,
   "id": "f9481f46",
   "metadata": {},
   "outputs": [],
   "source": [
    "#now lets train our 1st Machine Learning model which is Linear Regression"
   ]
  },
  {
   "cell_type": "code",
   "execution_count": 19,
   "id": "f3b793b5",
   "metadata": {},
   "outputs": [],
   "source": [
    "from sklearn.linear_model import LinearRegression"
   ]
  },
  {
   "cell_type": "code",
   "execution_count": 20,
   "id": "d47998e4",
   "metadata": {},
   "outputs": [],
   "source": [
    "model=LinearRegression()"
   ]
  },
  {
   "cell_type": "code",
   "execution_count": 21,
   "id": "708cd0b6",
   "metadata": {},
   "outputs": [
    {
     "data": {
      "text/plain": [
       "LinearRegression()"
      ]
     },
     "execution_count": 21,
     "metadata": {},
     "output_type": "execute_result"
    }
   ],
   "source": [
    "model.fit(xtrain,ytrain)"
   ]
  },
  {
   "cell_type": "code",
   "execution_count": 22,
   "id": "4efe981a",
   "metadata": {},
   "outputs": [
    {
     "data": {
      "text/plain": [
       "-13570.227389161962"
      ]
     },
     "execution_count": 22,
     "metadata": {},
     "output_type": "execute_result"
    }
   ],
   "source": [
    "model.intercept_"
   ]
  },
  {
   "cell_type": "code",
   "execution_count": 23,
   "id": "1b7ca436",
   "metadata": {},
   "outputs": [
    {
     "data": {
      "text/plain": [
       "array([  259.33412568,   -75.81743884,   349.56593251,   486.49423556,\n",
       "       23928.47941906,   357.94102165])"
      ]
     },
     "execution_count": 23,
     "metadata": {},
     "output_type": "execute_result"
    }
   ],
   "source": [
    "model.coef_"
   ]
  },
  {
   "cell_type": "code",
   "execution_count": 24,
   "id": "27b3f636",
   "metadata": {},
   "outputs": [],
   "source": [
    "ypred=model.predict(xtest)"
   ]
  },
  {
   "cell_type": "code",
   "execution_count": 25,
   "id": "bb615ec3",
   "metadata": {},
   "outputs": [
    {
     "data": {
      "text/plain": [
       "array([38533.51856669,  8977.05628247, 14956.96953865, 11724.50325379,\n",
       "       13239.26117405, 17358.16805775, 31836.60741939,  7123.28050311,\n",
       "        8671.87101264,  6508.40932503, 27734.73065729,  4060.7787168 ,\n",
       "         431.19727107,  6522.60053082,  6704.31675294, 15995.8291456 ,\n",
       "        3982.34630046, 35228.92693368, 10430.03296644,  9425.31724665,\n",
       "       29192.9738675 ,  8399.43017441, 33697.47832262,  8401.65787227,\n",
       "        8289.28571225, 17873.76196777, 15467.99994051, 10016.23449482,\n",
       "       10182.64237193, 33230.94407594, 16569.4139791 , 12798.97671408,\n",
       "        8375.07636816, 11178.46892514, 33681.87950512, 26931.53485385,\n",
       "        2693.54450655,  3294.06947559,  3559.44288011, 28925.40012191,\n",
       "       15088.75209715, 18707.30396549,  4623.09039121, 11828.56719221,\n",
       "       12886.62219161,  4049.81600695, 14232.77927375,  4250.71373342,\n",
       "        8325.74491768,  1808.51151943,  3984.53448757,   170.76554016,\n",
       "       10878.49755881,  7959.25382688, 16507.07004041, 12107.45534178,\n",
       "       27004.67738495, 13305.78956997, 15036.78091852,  6476.45891418,\n",
       "        4786.78255841, 24091.09347501,  6771.88101715, 37196.90842652,\n",
       "       34067.07240296, 37659.56551608,  2513.32403184, 14173.7532581 ,\n",
       "       15313.42010208,  5678.04978111,  7300.10880718, 31065.78830191,\n",
       "       11338.68078601, 26856.23278385,  8139.80428483, 27614.20701307,\n",
       "        5093.95716106,  1153.5853371 , 12464.85459584, 17262.86519672,\n",
       "        6873.4190718 ,  3285.37526575, 14768.97618794,  5071.17508398,\n",
       "       33265.7864681 ,  5973.19323217,  4128.17115014,   938.30059945,\n",
       "       30020.10406683,  6587.86207345, 12588.53942569, 33362.75399124,\n",
       "        1123.8626241 , 12897.58361005,  1969.2873741 , 10527.35303238,\n",
       "       33333.18757289,   675.01942354,  7427.33438891, 10243.97684109,\n",
       "       29433.06570993,  2763.45769305, 12642.33200384, 16297.3304809 ,\n",
       "       23044.7510218 ,  2028.217874  , 40148.1038607 ,  6901.59741243,\n",
       "        7516.28623046,  5893.8485962 , 10917.00132594,  9082.52827536,\n",
       "        5575.58397061, 11095.28457528,  9780.29333081,  -346.65010274,\n",
       "       10639.6370567 , 15872.39431945, 15248.74079583, 36902.75446823,\n",
       "        1318.87607498, 11012.12920698,  5500.4842374 ,  5765.24804874,\n",
       "       10553.46779259,  7343.18952783, 10037.62945222,  5568.86649689,\n",
       "       15826.2527028 ,  9963.7418587 ,  4023.0990336 ,  5471.2764505 ,\n",
       "       32594.51478106, 11394.64634842,  6596.52763509,  7204.06088371,\n",
       "       11120.78974231,  7948.11613704, 12888.84988947,  8116.34574702,\n",
       "       13346.85404376,  2638.62792442, 11605.5777375 ,  9821.40340399,\n",
       "       10305.04819456,  4482.66051366,  8687.66163775, 14450.62342666,\n",
       "       12987.54492113, 37666.1857399 ,  8851.7250331 ,  8416.47082519,\n",
       "        8707.68849418, 35725.25249506, 11269.2343434 , 26028.89895632,\n",
       "        8484.09553493,  4800.77142741, 10048.40851063,  3947.26206076,\n",
       "       27274.61429763,  6828.98978418, 10630.67973116,  9361.17284324,\n",
       "       16610.09073049,  3518.51387557,  9616.7348987 , 10168.2961629 ,\n",
       "        7350.52874869, 28625.03017064, 12609.5284181 , 12872.94506326,\n",
       "       12579.9211976 , 14555.37771391, 11332.84513537, 10803.35049205,\n",
       "        2193.25765014,  6088.14434144, 36768.38384628, 14617.52540445,\n",
       "        -388.53995186, 10423.25729662,  9938.30485062,  3742.70904796,\n",
       "        7321.30142779, 11284.48190951,  7623.76360767, 35827.56330231,\n",
       "        9349.33742451,  3614.94169863, 31709.7804226 ,  3862.91452952,\n",
       "       14946.19048025,  8049.21384656, 31794.06846633, 10154.44276315,\n",
       "        8584.26678002, 11295.34910361, 32606.98010308,  3067.87021029,\n",
       "       12064.48229083,  3047.03751253, 30472.04896554,  4698.95472084,\n",
       "        7846.00766658, 14054.82774181, 11695.22730793,  5282.36958875,\n",
       "        2712.28453294,  2802.34135977, 16967.7886132 , 12776.05178771,\n",
       "        3323.79218859,  5945.62352669, 10271.32294163, 33376.94648843,\n",
       "        3813.1844941 , 15648.01678701, 14456.68268224,  8688.04024595,\n",
       "       13737.12408446, 27767.57504518, 30966.62652635,  1583.93035881,\n",
       "        4684.02498402,  3482.25091829, 13399.72528807,  1715.11852697,\n",
       "        2202.62223206,  8164.67954856, 11814.70770382,  2890.25604164,\n",
       "       32341.96533001,  5261.76049594,  5688.82883951, -1083.87976989,\n",
       "       11124.33691619, 11278.21902573,  2321.54774836,  2805.54987896,\n",
       "        9441.2551616 , 12534.63231309, 30905.29334859,  2734.76398358,\n",
       "       14957.61864259,  9454.47770001, 37279.19237734, 11773.69185498,\n",
       "        2475.00262476, 17702.4393311 , 15086.37548469, 28303.86747511,\n",
       "         349.34055339, 13663.61639053,  7285.13173681, 11304.21958485,\n",
       "       14094.65914112, 10905.95177179,  6458.54426311, 31509.67594076,\n",
       "         946.07347545, 11759.52800599, 11409.75844529, 39338.10244785,\n",
       "        9573.6068445 , 33470.54181769,  7236.70164341,  4182.07955415])"
      ]
     },
     "execution_count": 25,
     "metadata": {},
     "output_type": "execute_result"
    }
   ],
   "source": [
    "ypred"
   ]
  },
  {
   "cell_type": "code",
   "execution_count": 26,
   "id": "d1cf6544",
   "metadata": {},
   "outputs": [],
   "source": [
    "from sklearn.metrics import mean_absolute_error,r2_score"
   ]
  },
  {
   "cell_type": "code",
   "execution_count": 27,
   "id": "2123b4b0",
   "metadata": {},
   "outputs": [
    {
     "name": "stdout",
     "output_type": "stream",
     "text": [
      "4150.727532322753\n"
     ]
    }
   ],
   "source": [
    "print(mean_absolute_error(ytest,ypred))"
   ]
  },
  {
   "cell_type": "code",
   "execution_count": 28,
   "id": "09f2a04f",
   "metadata": {},
   "outputs": [
    {
     "name": "stdout",
     "output_type": "stream",
     "text": [
      "0.7331126142550839\n"
     ]
    }
   ],
   "source": [
    "print(r2_score(ytest,ypred))"
   ]
  },
  {
   "cell_type": "code",
   "execution_count": 29,
   "id": "0f79dd8b",
   "metadata": {},
   "outputs": [],
   "source": [
    "#now lets use Logistic Regression"
   ]
  },
  {
   "cell_type": "code",
   "execution_count": 30,
   "id": "0b1879be",
   "metadata": {},
   "outputs": [],
   "source": [
    "from sklearn.tree import DecisionTreeRegressor"
   ]
  },
  {
   "cell_type": "code",
   "execution_count": 31,
   "id": "ddd7ee35",
   "metadata": {},
   "outputs": [],
   "source": [
    "model1=DecisionTreeRegressor()"
   ]
  },
  {
   "cell_type": "code",
   "execution_count": 32,
   "id": "ddfe221f",
   "metadata": {},
   "outputs": [
    {
     "data": {
      "text/plain": [
       "DecisionTreeRegressor()"
      ]
     },
     "execution_count": 32,
     "metadata": {},
     "output_type": "execute_result"
    }
   ],
   "source": [
    "model1.fit(xtrain,ytrain)"
   ]
  },
  {
   "cell_type": "code",
   "execution_count": 33,
   "id": "3966ec86",
   "metadata": {},
   "outputs": [],
   "source": [
    "ypred=model1.predict(xtest)"
   ]
  },
  {
   "cell_type": "code",
   "execution_count": 34,
   "id": "ebce4649",
   "metadata": {},
   "outputs": [
    {
     "data": {
      "text/plain": [
       "array([27533.91,  8827.21,  9541.7 , 12629.9 , 14001.29, 11396.9 ,\n",
       "       23306.55,  6664.69, 12094.48,  3659.35, 34472.84,  1917.32,\n",
       "        1607.51,  5267.82,  5472.45, 12982.87,  5615.37, 39047.29,\n",
       "        9447.25, 17929.3 , 19040.88, 19214.71, 38245.59,  5630.46,\n",
       "       28340.19, 14235.07, 28287.9 ,  9447.25, 11015.17, 24180.93,\n",
       "       13470.8 , 10704.47,  3935.18,  7265.7 , 39597.41, 17468.98,\n",
       "       21344.85,  2261.57,  1261.86, 19023.26, 10115.01, 11396.9 ,\n",
       "       27724.29, 11286.54, 11289.11,  4529.48, 11743.93,  3757.84,\n",
       "        6548.2 ,  3180.51,  3046.06,  1704.57,  7639.42, 18963.17,\n",
       "       11394.07,  7265.7 , 33732.69, 10450.55, 10601.41,  4562.84,\n",
       "        2498.41, 15518.18,  2217.6 , 29141.36, 39836.52, 48885.14,\n",
       "        2803.7 , 10370.91, 12949.16,  5002.78,  6113.23, 20745.99,\n",
       "       28468.92, 36397.58,  6455.86, 17179.52,  2719.28, 11884.05,\n",
       "       24513.09, 14313.85,  5976.83,  4687.8 , 14590.63,  2134.9 ,\n",
       "       44585.46,  7986.48,  6933.24,  3208.79, 20234.85,  5976.83,\n",
       "        9964.06, 23065.42,  2709.24, 10923.93,  1622.19, 11244.38,\n",
       "       42211.14,  2527.82,  9855.13, 30284.64, 19798.05,  2741.95,\n",
       "       14254.61, 11394.07, 13747.87, 18804.75, 48824.45,  6664.69,\n",
       "        7986.48,  7986.48, 10461.98, 10959.33, 18804.75, 12629.9 ,\n",
       "        6082.41,  1837.24,  8527.53, 13143.86, 12949.16, 47269.85,\n",
       "        2527.82, 11326.71,  5227.99,  4449.46,  9386.16,  3309.79,\n",
       "       10959.33, 21344.85, 12265.51,  9447.25, 12609.89,  2498.41,\n",
       "       21195.82, 11015.17,  8539.67,  4433.92,  9778.35,  5246.05,\n",
       "       10072.06,  3410.32,  9144.57,  1906.36, 24513.09, 10197.77,\n",
       "        8671.19,  2727.4 , 18963.17, 10355.64, 28468.92, 45710.21,\n",
       "        8582.3 ,  6710.19,  5373.36, 41949.24, 11015.17, 17043.34,\n",
       "        8782.47,  7882.43,  8932.08,  4719.74, 32548.34,  6664.69,\n",
       "        6986.7 ,  6338.08, 15170.07,  2721.32,  8410.05,  5920.1 ,\n",
       "        6548.2 , 35491.64,  8978.19, 14001.29,  9541.7 , 10560.49,\n",
       "        8823.99, 18806.15,  4391.65,  4438.26, 29523.17, 12638.2 ,\n",
       "        1704.57,  2927.06, 10702.64,  2719.28,  4949.76, 12323.94,\n",
       "        4738.27, 48885.14,  8059.68,  1391.53, 19023.26, 13126.68,\n",
       "       12231.61,  7201.7 , 39597.41, 11073.18, 10156.78, 28468.92,\n",
       "       44585.46,  2974.13,  8527.53,  1137.01, 51194.56,  1917.32,\n",
       "        7742.11, 11264.54, 12224.35,  4889.04,  3847.67,  1135.94,\n",
       "       14474.68,  9386.16, 27724.29,  4074.45, 24513.09, 48885.14,\n",
       "       27724.29, 12741.17, 12949.16,  5934.38, 10976.25, 34779.62,\n",
       "       20234.85,  3861.21,  2523.17,  4571.41, 11842.44,  1632.04,\n",
       "        2155.68,  8827.21, 11150.78,  4766.02, 44585.46,  3172.02,\n",
       "       18903.49,  1728.9 , 12323.94, 25517.11,  1744.47,  4544.23,\n",
       "       22192.44, 11946.63, 44501.4 ,  1256.3 , 13143.86,  9101.8 ,\n",
       "       45710.21,  9800.89,  2221.56, 13063.88, 12244.53, 36149.48,\n",
       "        1743.21,  5846.92,  5428.73,  5662.23,  8347.16, 11082.58,\n",
       "        3227.12, 22144.03,  1632.04, 10226.28, 24476.48, 46130.53,\n",
       "        6775.96, 22218.11,  5425.02,  2566.47])"
      ]
     },
     "execution_count": 34,
     "metadata": {},
     "output_type": "execute_result"
    }
   ],
   "source": [
    "ypred"
   ]
  },
  {
   "cell_type": "code",
   "execution_count": null,
   "id": "0e0c8ea2",
   "metadata": {},
   "outputs": [],
   "source": []
  },
  {
   "cell_type": "code",
   "execution_count": 35,
   "id": "956cf9b1",
   "metadata": {},
   "outputs": [],
   "source": [
    "from sklearn.metrics import r2_score"
   ]
  },
  {
   "cell_type": "code",
   "execution_count": 36,
   "id": "11cc116a",
   "metadata": {},
   "outputs": [
    {
     "name": "stdout",
     "output_type": "stream",
     "text": [
      "0.6413033289111575\n"
     ]
    }
   ],
   "source": [
    "print(r2_score(ytest,ypred))"
   ]
  },
  {
   "cell_type": "code",
   "execution_count": 37,
   "id": "7a3d9756",
   "metadata": {},
   "outputs": [],
   "source": [
    "#lets use Random Forest"
   ]
  },
  {
   "cell_type": "code",
   "execution_count": 38,
   "id": "c8280a20",
   "metadata": {},
   "outputs": [],
   "source": [
    "from sklearn.ensemble import RandomForestRegressor"
   ]
  },
  {
   "cell_type": "code",
   "execution_count": 39,
   "id": "173212ce",
   "metadata": {},
   "outputs": [],
   "source": [
    "model2=RandomForestRegressor(n_estimators=5,max_depth=3,max_leaf_nodes=4,max_features=5)"
   ]
  },
  {
   "cell_type": "code",
   "execution_count": 40,
   "id": "bd16f7e0",
   "metadata": {},
   "outputs": [
    {
     "data": {
      "text/plain": [
       "RandomForestRegressor(max_depth=3, max_features=5, max_leaf_nodes=4,\n",
       "                      n_estimators=5)"
      ]
     },
     "execution_count": 40,
     "metadata": {},
     "output_type": "execute_result"
    }
   ],
   "source": [
    "model2.fit(xtrain,ytrain)"
   ]
  },
  {
   "cell_type": "code",
   "execution_count": 41,
   "id": "d8103e48",
   "metadata": {},
   "outputs": [],
   "source": [
    "from sklearn.metrics import r2_score"
   ]
  },
  {
   "cell_type": "code",
   "execution_count": 42,
   "id": "82dc9937",
   "metadata": {},
   "outputs": [],
   "source": [
    "model2=model.fit(xtrain,ytrain)"
   ]
  },
  {
   "cell_type": "code",
   "execution_count": 43,
   "id": "0f00e22f",
   "metadata": {},
   "outputs": [
    {
     "data": {
      "text/plain": [
       "92      30184.94\n",
       "310      8444.47\n",
       "720      9875.68\n",
       "9       28923.14\n",
       "912     14382.71\n",
       "          ...   \n",
       "1301    46718.16\n",
       "1309     6875.96\n",
       "1176    23887.66\n",
       "222      5253.52\n",
       "369      3481.87\n",
       "Name: expenses, Length: 268, dtype: float64"
      ]
     },
     "execution_count": 43,
     "metadata": {},
     "output_type": "execute_result"
    }
   ],
   "source": [
    "ytest"
   ]
  },
  {
   "cell_type": "code",
   "execution_count": 44,
   "id": "d344d295",
   "metadata": {},
   "outputs": [],
   "source": [
    "ypred=model.predict(xtest)"
   ]
  },
  {
   "cell_type": "code",
   "execution_count": 45,
   "id": "4a49686c",
   "metadata": {},
   "outputs": [
    {
     "data": {
      "text/plain": [
       "array([38533.51856669,  8977.05628247, 14956.96953865, 11724.50325379,\n",
       "       13239.26117405, 17358.16805775, 31836.60741939,  7123.28050311,\n",
       "        8671.87101264,  6508.40932503, 27734.73065729,  4060.7787168 ,\n",
       "         431.19727107,  6522.60053082,  6704.31675294, 15995.8291456 ,\n",
       "        3982.34630046, 35228.92693368, 10430.03296644,  9425.31724665,\n",
       "       29192.9738675 ,  8399.43017441, 33697.47832262,  8401.65787227,\n",
       "        8289.28571225, 17873.76196777, 15467.99994051, 10016.23449482,\n",
       "       10182.64237193, 33230.94407594, 16569.4139791 , 12798.97671408,\n",
       "        8375.07636816, 11178.46892514, 33681.87950512, 26931.53485385,\n",
       "        2693.54450655,  3294.06947559,  3559.44288011, 28925.40012191,\n",
       "       15088.75209715, 18707.30396549,  4623.09039121, 11828.56719221,\n",
       "       12886.62219161,  4049.81600695, 14232.77927375,  4250.71373342,\n",
       "        8325.74491768,  1808.51151943,  3984.53448757,   170.76554016,\n",
       "       10878.49755881,  7959.25382688, 16507.07004041, 12107.45534178,\n",
       "       27004.67738495, 13305.78956997, 15036.78091852,  6476.45891418,\n",
       "        4786.78255841, 24091.09347501,  6771.88101715, 37196.90842652,\n",
       "       34067.07240296, 37659.56551608,  2513.32403184, 14173.7532581 ,\n",
       "       15313.42010208,  5678.04978111,  7300.10880718, 31065.78830191,\n",
       "       11338.68078601, 26856.23278385,  8139.80428483, 27614.20701307,\n",
       "        5093.95716106,  1153.5853371 , 12464.85459584, 17262.86519672,\n",
       "        6873.4190718 ,  3285.37526575, 14768.97618794,  5071.17508398,\n",
       "       33265.7864681 ,  5973.19323217,  4128.17115014,   938.30059945,\n",
       "       30020.10406683,  6587.86207345, 12588.53942569, 33362.75399124,\n",
       "        1123.8626241 , 12897.58361005,  1969.2873741 , 10527.35303238,\n",
       "       33333.18757289,   675.01942354,  7427.33438891, 10243.97684109,\n",
       "       29433.06570993,  2763.45769305, 12642.33200384, 16297.3304809 ,\n",
       "       23044.7510218 ,  2028.217874  , 40148.1038607 ,  6901.59741243,\n",
       "        7516.28623046,  5893.8485962 , 10917.00132594,  9082.52827536,\n",
       "        5575.58397061, 11095.28457528,  9780.29333081,  -346.65010274,\n",
       "       10639.6370567 , 15872.39431945, 15248.74079583, 36902.75446823,\n",
       "        1318.87607498, 11012.12920698,  5500.4842374 ,  5765.24804874,\n",
       "       10553.46779259,  7343.18952783, 10037.62945222,  5568.86649689,\n",
       "       15826.2527028 ,  9963.7418587 ,  4023.0990336 ,  5471.2764505 ,\n",
       "       32594.51478106, 11394.64634842,  6596.52763509,  7204.06088371,\n",
       "       11120.78974231,  7948.11613704, 12888.84988947,  8116.34574702,\n",
       "       13346.85404376,  2638.62792442, 11605.5777375 ,  9821.40340399,\n",
       "       10305.04819456,  4482.66051366,  8687.66163775, 14450.62342666,\n",
       "       12987.54492113, 37666.1857399 ,  8851.7250331 ,  8416.47082519,\n",
       "        8707.68849418, 35725.25249506, 11269.2343434 , 26028.89895632,\n",
       "        8484.09553493,  4800.77142741, 10048.40851063,  3947.26206076,\n",
       "       27274.61429763,  6828.98978418, 10630.67973116,  9361.17284324,\n",
       "       16610.09073049,  3518.51387557,  9616.7348987 , 10168.2961629 ,\n",
       "        7350.52874869, 28625.03017064, 12609.5284181 , 12872.94506326,\n",
       "       12579.9211976 , 14555.37771391, 11332.84513537, 10803.35049205,\n",
       "        2193.25765014,  6088.14434144, 36768.38384628, 14617.52540445,\n",
       "        -388.53995186, 10423.25729662,  9938.30485062,  3742.70904796,\n",
       "        7321.30142779, 11284.48190951,  7623.76360767, 35827.56330231,\n",
       "        9349.33742451,  3614.94169863, 31709.7804226 ,  3862.91452952,\n",
       "       14946.19048025,  8049.21384656, 31794.06846633, 10154.44276315,\n",
       "        8584.26678002, 11295.34910361, 32606.98010308,  3067.87021029,\n",
       "       12064.48229083,  3047.03751253, 30472.04896554,  4698.95472084,\n",
       "        7846.00766658, 14054.82774181, 11695.22730793,  5282.36958875,\n",
       "        2712.28453294,  2802.34135977, 16967.7886132 , 12776.05178771,\n",
       "        3323.79218859,  5945.62352669, 10271.32294163, 33376.94648843,\n",
       "        3813.1844941 , 15648.01678701, 14456.68268224,  8688.04024595,\n",
       "       13737.12408446, 27767.57504518, 30966.62652635,  1583.93035881,\n",
       "        4684.02498402,  3482.25091829, 13399.72528807,  1715.11852697,\n",
       "        2202.62223206,  8164.67954856, 11814.70770382,  2890.25604164,\n",
       "       32341.96533001,  5261.76049594,  5688.82883951, -1083.87976989,\n",
       "       11124.33691619, 11278.21902573,  2321.54774836,  2805.54987896,\n",
       "        9441.2551616 , 12534.63231309, 30905.29334859,  2734.76398358,\n",
       "       14957.61864259,  9454.47770001, 37279.19237734, 11773.69185498,\n",
       "        2475.00262476, 17702.4393311 , 15086.37548469, 28303.86747511,\n",
       "         349.34055339, 13663.61639053,  7285.13173681, 11304.21958485,\n",
       "       14094.65914112, 10905.95177179,  6458.54426311, 31509.67594076,\n",
       "         946.07347545, 11759.52800599, 11409.75844529, 39338.10244785,\n",
       "        9573.6068445 , 33470.54181769,  7236.70164341,  4182.07955415])"
      ]
     },
     "execution_count": 45,
     "metadata": {},
     "output_type": "execute_result"
    }
   ],
   "source": [
    "ypred"
   ]
  },
  {
   "cell_type": "code",
   "execution_count": 46,
   "id": "e69e5df5",
   "metadata": {},
   "outputs": [
    {
     "name": "stdout",
     "output_type": "stream",
     "text": [
      "0.7331126142550839\n"
     ]
    }
   ],
   "source": [
    "print(r2_score(ytest,ypred))"
   ]
  },
  {
   "cell_type": "code",
   "execution_count": 47,
   "id": "b21e72c4",
   "metadata": {},
   "outputs": [],
   "source": [
    "# K Nearest Neighbour"
   ]
  },
  {
   "cell_type": "code",
   "execution_count": 48,
   "id": "209ebcd6",
   "metadata": {},
   "outputs": [],
   "source": [
    "k=range(2,10)\n",
    "from sklearn.cluster import KMeans"
   ]
  },
  {
   "cell_type": "code",
   "execution_count": 49,
   "id": "a32a3e33",
   "metadata": {},
   "outputs": [],
   "source": [
    "distance=[]\n",
    "for i in k:\n",
    "    algo=KMeans(n_clusters=i)\n",
    "    algo.fit(data)\n",
    "    distance.append(algo.inertia_)"
   ]
  },
  {
   "cell_type": "code",
   "execution_count": 50,
   "id": "8cd6821e",
   "metadata": {},
   "outputs": [
    {
     "data": {
      "image/png": "[encoded data removed]",
      "text/plain": [
       "<Figure size 432x288 with 1 Axes>"
      ]
     },
     "metadata": {
      "needs_background": "light"
     },
     "output_type": "display_data"
    }
   ],
   "source": [
    "plt.plot(k,distance,color='r')\n",
    "plt.xlabel('k')\n",
    "plt.ylabel('distance')\n",
    "plt.show()"
   ]
  },
  {
   "cell_type": "code",
   "execution_count": 51,
   "id": "6201f533",
   "metadata": {},
   "outputs": [
    {
     "data": {
      "text/plain": [
       "KMeans(n_clusters=4, n_init=2000)"
      ]
     },
     "execution_count": 51,
     "metadata": {},
     "output_type": "execute_result"
    }
   ],
   "source": [
    "model=KMeans(n_clusters=4,n_init=2000)\n",
    "model.fit(data)"
   ]
  },
  {
   "cell_type": "code",
   "execution_count": 52,
   "id": "da3f91f9",
   "metadata": {},
   "outputs": [
    {
     "data": {
      "text/plain": [
       "array([3, 0, 0, ..., 0, 0, 1])"
      ]
     },
     "execution_count": 52,
     "metadata": {},
     "output_type": "execute_result"
    }
   ],
   "source": [
    "model.labels_"
   ]
  },
  {
   "cell_type": "code",
   "execution_count": 53,
   "id": "6d6686ce",
   "metadata": {},
   "outputs": [
    {
     "name": "stdout",
     "output_type": "stream",
     "text": [
      "[0 1 2 3]\n"
     ]
    }
   ],
   "source": [
    "print(np.unique(model.labels_))"
   ]
  },
  {
   "cell_type": "code",
   "execution_count": 54,
   "id": "8b376d51",
   "metadata": {},
   "outputs": [
    {
     "data": {
      "text/plain": [
       "array([[2.93226950e+01, 5.03546099e-01, 3.01008865e+01, 1.00886525e+00,\n",
       "        2.77555756e-17, 1.41843972e+00, 4.23287271e+03],\n",
       "       [4.10511364e+01, 5.11363636e-01, 2.81636364e+01, 1.22159091e+00,\n",
       "        5.79545455e-01, 1.51136364e+00, 2.25250203e+04],\n",
       "       [3.95483871e+01, 6.32258065e-01, 3.50522581e+01, 1.13548387e+00,\n",
       "        9.67741935e-01, 1.19354839e+00, 4.12245811e+04],\n",
       "       [5.09390519e+01, 4.60496614e-01, 3.08433409e+01, 1.13995485e+00,\n",
       "        4.96613995e-02, 1.57110609e+00, 1.13188969e+04]])"
      ]
     },
     "execution_count": 54,
     "metadata": {},
     "output_type": "execute_result"
    }
   ],
   "source": [
    "c=model.cluster_centers_\n",
    "c"
   ]
  },
  {
   "cell_type": "code",
   "execution_count": 55,
   "id": "8f7e4d99",
   "metadata": {},
   "outputs": [],
   "source": [
    "from sklearn.metrics import silhouette_score"
   ]
  },
  {
   "cell_type": "code",
   "execution_count": 56,
   "id": "403cca75",
   "metadata": {},
   "outputs": [
    {
     "name": "stdout",
     "output_type": "stream",
     "text": [
      "0.610505582911769\n"
     ]
    }
   ],
   "source": [
    "print(silhouette_score(data,model.labels_))"
   ]
  },
  {
   "cell_type": "code",
   "execution_count": 57,
   "id": "c5a6be63",
   "metadata": {},
   "outputs": [],
   "source": [
    "#Support Vector Machine"
   ]
  },
  {
   "cell_type": "code",
   "execution_count": 83,
   "id": "a08f8315",
   "metadata": {},
   "outputs": [],
   "source": [
    "from sklearn.svm import SVR"
   ]
  },
  {
   "cell_type": "code",
   "execution_count": 84,
   "id": "52fc0c6d",
   "metadata": {},
   "outputs": [],
   "source": [
    "model3=SVR()"
   ]
  },
  {
   "cell_type": "code",
   "execution_count": 85,
   "id": "e7fc45e6",
   "metadata": {},
   "outputs": [
    {
     "data": {
      "text/plain": [
       "SVR()"
      ]
     },
     "execution_count": 85,
     "metadata": {},
     "output_type": "execute_result"
    }
   ],
   "source": [
    "model3.fit(xtrain,ytrain)"
   ]
  },
  {
   "cell_type": "code",
   "execution_count": 95,
   "id": "c5153515",
   "metadata": {},
   "outputs": [],
   "source": [
    "ypre=model3.predict(xtest)"
   ]
  },
  {
   "cell_type": "code",
   "execution_count": 96,
   "id": "7f02e8bf",
   "metadata": {},
   "outputs": [
    {
     "data": {
      "text/plain": [
       "array([9330.00436868, 9277.64782513, 9288.06252951, 9331.51796705,\n",
       "       9327.80591985, 9292.48835581, 9257.31340204, 9209.82979684,\n",
       "       9296.64294138, 9160.59990573, 9105.86406902, 9109.31447284,\n",
       "       9103.37155047, 9183.7767853 , 9184.4889621 , 9342.201172  ,\n",
       "       9125.92381086, 9234.90236196, 9278.05211648, 9246.17489079,\n",
       "       9153.68539486, 9169.4748197 , 9270.92107053, 9175.46013506,\n",
       "       9251.66789009, 9342.68107782, 9331.13243549, 9265.14885943,\n",
       "       9265.99722435, 9257.8672822 , 9342.11651756, 9310.99199044,\n",
       "       9174.75125897, 9228.33444167, 9213.12833262, 9117.25817896,\n",
       "       9103.75833616, 9106.66649619, 9108.07462392, 9182.95159777,\n",
       "       9257.17566096, 9290.89472064, 9109.26129193, 9309.28038834,\n",
       "       9293.64708646, 9153.32610257, 9326.69515316, 9148.00399559,\n",
       "       9184.39662541, 9111.49103195, 9124.77112236, 9104.89727928,\n",
       "       9234.43761381, 9150.49195129, 9320.31702183, 9235.02429797,\n",
       "       9104.65351998, 9305.63896626, 9326.2695963 , 9159.85416581,\n",
       "       9135.15537963, 9109.81537565, 9118.51264149, 9337.9139831 ,\n",
       "       9207.65545417, 9239.16323303, 9105.4560573 , 9288.22272313,\n",
       "       9316.64842938, 9170.76040449, 9160.75128518, 9159.97234662,\n",
       "       9267.27779011, 9107.62974062, 9197.54717648, 9158.99945662,\n",
       "       9104.95993468, 9103.5397981 , 9337.60212434, 9348.26019764,\n",
       "       9197.24907713, 9105.67033278, 9330.83346239, 9114.85682208,\n",
       "       9156.27156967, 9228.90517847, 9195.38542754, 9131.08028897,\n",
       "       9171.37264367, 9197.02266924, 9280.71651621, 9265.65194667,\n",
       "       9106.00977876, 9305.3260711 , 9104.03079676, 9289.8820388 ,\n",
       "       9195.55142027, 9112.55594353, 9267.30203506, 9277.45126911,\n",
       "       9227.76524132, 9103.82383525, 9343.44370153, 9320.62158442,\n",
       "       9110.96880972, 9133.58225017, 9334.24578649, 9215.788746  ,\n",
       "       9208.99035874, 9189.17083908, 9297.75878146, 9311.23536374,\n",
       "       9134.28142823, 9329.66489216, 9200.40031139, 9104.63564402,\n",
       "       9240.18229144, 9339.6105394 , 9321.80035994, 9288.27368915,\n",
       "       9114.82132943, 9182.0722392 , 9183.14763691, 9134.07216418,\n",
       "       9285.99610126, 9123.86154386, 9314.96103991, 9109.58354122,\n",
       "       9321.52306735, 9257.98242774, 9124.67918105, 9132.80572192,\n",
       "       9293.10865904, 9278.62811768, 9253.34613162, 9145.37755805,\n",
       "       9279.7982124 , 9180.46356817, 9299.62975909, 9137.00074979,\n",
       "       9294.24075639, 9108.12703893, 9338.64628756, 9299.80402335,\n",
       "       9273.12404279, 9129.23132428, 9161.56572217, 9300.22683112,\n",
       "       9268.89842361, 9335.65431786, 9230.0684628 , 9223.53440938,\n",
       "       9186.6523343 , 9236.19346881, 9272.49876221, 9103.85885626,\n",
       "       9280.67956539, 9111.84976093, 9278.19588994, 9137.71293464,\n",
       "       9108.89921836, 9203.02142911, 9220.48666206, 9206.69961634,\n",
       "       9339.50890313, 9133.21557189, 9231.06236129, 9221.36033664,\n",
       "       9177.86294838, 9139.56946828, 9268.34865123, 9328.40872391,\n",
       "       9287.6153449 , 9288.11957285, 9261.29985707, 9228.19146365,\n",
       "       9117.94428097, 9153.68565321, 9340.36530956, 9335.67980251,\n",
       "       9106.07303432, 9145.60825089, 9272.4937448 , 9105.99755365,\n",
       "       9144.12969604, 9326.85001483, 9155.75508887, 9262.52258234,\n",
       "       9211.21446187, 9109.91206172, 9203.00670376, 9125.07914538,\n",
       "       9326.63300819, 9197.00137299, 9191.82963763, 9311.90123581,\n",
       "       9275.29824995, 9267.66454195, 9154.70603714, 9137.69394774,\n",
       "       9242.39555356, 9106.24321547, 9152.51116294, 9116.23273129,\n",
       "       9236.86083387, 9300.13154045, 9323.63785071, 9183.19602882,\n",
       "       9129.11330208, 9105.65899783, 9343.1983414 , 9281.91103971,\n",
       "       9105.7008109 , 9143.45773114, 9334.20707387, 9196.47631545,\n",
       "       9106.94982002, 9335.54140941, 9316.64368682, 9187.04426683,\n",
       "       9321.79774109, 9109.03821992, 9184.14448609, 9117.36603726,\n",
       "       9129.72080477, 9164.53827019, 9326.50936277, 9105.3853187 ,\n",
       "       9113.78095947, 9276.6418    , 9297.16063119, 9177.23986724,\n",
       "       9158.66116186, 9140.15726507, 9134.0979793 , 9108.66245443,\n",
       "       9330.00774426, 9321.85199627, 9108.04501394, 9153.68008436,\n",
       "       9319.16950804, 9310.85595824, 9124.03544776, 9105.89692772,\n",
       "       9339.71683383, 9244.8103336 , 9335.42331468, 9280.45286774,\n",
       "       9103.38954837, 9335.17571379, 9330.97867353, 9110.71470146,\n",
       "       9105.93136671, 9203.20123714, 9135.47634837, 9217.9280437 ,\n",
       "       9256.80398321, 9307.82440188, 9131.74175517, 9231.29440377,\n",
       "       9105.67648933, 9293.71873943, 9303.80659136, 9342.98560593,\n",
       "       9219.40147512, 9288.44509871, 9160.46369123, 9104.1775094 ])"
      ]
     },
     "execution_count": 96,
     "metadata": {},
     "output_type": "execute_result"
    }
   ],
   "source": [
    "ypre"
   ]
  },
  {
   "cell_type": "code",
   "execution_count": 98,
   "id": "fdd56b33",
   "metadata": {},
   "outputs": [
    {
     "name": "stdout",
     "output_type": "stream",
     "text": [
      "-0.10535065991841353\n"
     ]
    }
   ],
   "source": [
    "print(r2_score(ytest,ypre))"
   ]
  },
  {
   "cell_type": "code",
   "execution_count": 99,
   "id": "251bfe76",
   "metadata": {},
   "outputs": [
    {
     "data": {
      "text/plain": [
       "-14218.312173295857"
      ]
     },
     "execution_count": 99,
     "metadata": {},
     "output_type": "execute_result"
    }
   ],
   "source": [
    "model.score(xtest,ytest)"
   ]
  },
  {
   "cell_type": "code",
   "execution_count": null,
   "id": "509433c9",
   "metadata": {},
   "outputs": [],
   "source": [
    "# WE have used the algorithms Linear Regression,Decision Tree,Random Forest,Support Vector Machine and Kmeans with highest recorded accuracy of 83.7 percentage\n"
   ]
  },
  {
   "cell_type": "code",
   "execution_count": null,
   "id": "e094e39a",
   "metadata": {},
   "outputs": [],
   "source": []
  }
 ],
 "metadata": {
  "kernelspec": {
   "display_name": "Python 3 (ipykernel)",
   "language": "python",
   "name": "python3"
  },
  "language_info": {
   "codemirror_mode": {
    "name": "ipython",
    "version": 3
   },
   "file_extension": ".py",
   "mimetype": "text/x-python",
   "name": "python",
   "nbconvert_exporter": "python",
   "pygments_lexer": "ipython3",
   "version": "3.9.7"
  }
 },
 "nbformat": 4,
 "nbformat_minor": 5
}
